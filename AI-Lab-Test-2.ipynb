{
 "cells": [
  {
   "cell_type": "markdown",
   "metadata": {},
   "source": [
    "## AI LAB TEST-2\n",
    "## Shikha N-1BM18CS149\n",
    "### Infer whether the given pair of statements can be unified or not. If unification is possible write the code for substitutions.\n",
    "### Justify your answer for these cases also along with successful unification\n",
    "### 1) Predicates are different 2) Mismatch in Number of arguments 3) If the arguments are constants \n"
   ]
  },
  {
   "cell_type": "code",
   "execution_count": 19,
   "metadata": {},
   "outputs": [],
   "source": [
    "import re\n",
    "def getAttributes(expression):\n",
    "    expression = expression.split(\"(\")[1:] \n",
    "    expression = \"(\".join(expression) \n",
    "    expression = expression.split(\")\")[:-1] \n",
    "    expression = \")\".join(expression)\n",
    "    attributes = expression.split(',')\n",
    "    return attributes\n",
    "\n",
    "def getPredicate(expression):\n",
    "    return expression.split(\"(\")[0]\n",
    "\n",
    "def isConstant(char):\n",
    "    return char.isupper() and len(char) == 1\n",
    "\n",
    "def isVariable(char):\n",
    "    return char.islower() and len(char) == 1\n",
    "\n",
    "def substitute(exp, old, new):\n",
    "    attributes = getAttributes(exp)\n",
    "    predicate = getPredicate(exp)\n",
    "    for index, val in enumerate(attributes):\n",
    "        if val == old:\n",
    "            attributes[index] = new\n",
    "    return predicate + \"(\" + \",\".join(attributes) + \")\"\n",
    "\n",
    "def apply(exp, substitutions):\n",
    "    for substitution in substitutions:\n",
    "        new, old = substitution  \n",
    "        exp = substitute(exp, old, new)\n",
    "    return exp\n",
    "\n",
    "def checkOccurs(var, exp):\n",
    "    if exp.find(var) == -1:\n",
    "        return False\n",
    "    return True"
   ]
  },
  {
   "cell_type": "code",
   "execution_count": 20,
   "metadata": {},
   "outputs": [],
   "source": [
    "def getFirstAttribute(expression):\n",
    "    attributes = getAttributes(expression)\n",
    "    return attributes[0]\n",
    "\n",
    "def getRemaining(expression):\n",
    "    predicate = getPredicate(expression)\n",
    "    attributes = getAttributes(expression)\n",
    "    newExpression = predicate + \"(\" + \",\".join(attributes[1:]) + \")\"\n",
    "    return newExpression"
   ]
  },
  {
   "cell_type": "code",
   "execution_count": 21,
   "metadata": {},
   "outputs": [],
   "source": [
    "def unify(exp1, exp2):\n",
    "    if exp1 == exp2:\n",
    "        return []\n",
    "    elif isConstant(exp1) and isConstant(exp2):\n",
    "        if exp1 != exp2:\n",
    "            print(f\"{exp1} and {exp2} are constants. Cannot be unified\")\n",
    "            return False\n",
    "    elif isConstant(exp1):\n",
    "        return [(exp1, exp2)]\n",
    "    elif isConstant(exp2):\n",
    "        return [(exp2, exp1)]\n",
    "    elif isVariable(exp1):\n",
    "        return [(exp2, exp1)] if not checkOccurs(exp1, exp2) else False\n",
    "    elif isVariable(exp2):\n",
    "        return [(exp1, exp2)] if not checkOccurs(exp2, exp1) else False\n",
    "    elif getPredicate(exp1) != getPredicate(exp2):\n",
    "        print(f\"Predicates {getPredicate(exp1)} and {getPredicate(exp2)} do not match. Cannot be unified\")\n",
    "        return False\n",
    "    elif len(getAttributes(exp1)) != len(getAttributes(exp2)):\n",
    "        print(f\"Length of attributes {len(getAttributes(exp1))} and {len(getAttributes(exp2))} do not match. Cannot be unified\")\n",
    "        return False\n",
    "\n",
    "    firstAttr1 = getFirstAttribute(exp1)\n",
    "    firstAttr2 = getFirstAttribute(exp2)\n",
    "    initialSubstitution = unify(firstAttr1, firstAttr2)\n",
    "    if not initialSubstitution:\n",
    "        return False\n",
    "    if len(getAttributes(exp1)) == 1:\n",
    "        return initialSubstitution\n",
    "    \n",
    "    remainingAttr1 = getRemaining(exp1)\n",
    "    remainingAttr2 = getRemaining(exp2)\n",
    "    if initialSubstitution != []:\n",
    "        remainingAttr1 = apply(remainingAttr1, initialSubstitution)\n",
    "        remainingAttr2 = apply(remainingAttr2, initialSubstitution)\n",
    "    remainingSubstitution = unify(remainingAttr1, remainingAttr2)\n",
    "    if not remainingSubstitution:\n",
    "        return False\n",
    "\n",
    "    return initialSubstitution + remainingSubstitution"
   ]
  },
  {
   "cell_type": "code",
   "execution_count": 22,
   "metadata": {},
   "outputs": [],
   "source": [
    "def main():\n",
    "    exp1 = input(\"Enter the First Statement: \")\n",
    "    exp2 = input(\"Enter the Second Statement: \")\n",
    "    subs = unify(exp1, exp2)\n",
    "    if subs:\n",
    "        print(\"Substitutions:\")\n",
    "        print([' / '.join(sub) for sub in subs])\n",
    "    else:\n",
    "        print(\"No Substitution\")"
   ]
  },
  {
   "cell_type": "markdown",
   "metadata": {},
   "source": [
    "# Outputs"
   ]
  },
  {
   "cell_type": "code",
   "execution_count": 23,
   "metadata": {},
   "outputs": [
    {
     "name": "stdout",
     "output_type": "stream",
     "text": [
      "Enter the First Statement: knows(x,B)\n",
      "Enter the Second Statement: knows(J,y)\n",
      "Substitutions:\n",
      "['J / x', 'B / y']\n"
     ]
    }
   ],
   "source": [
    "#test1\n",
    "main()"
   ]
  },
  {
   "cell_type": "code",
   "execution_count": 24,
   "metadata": {},
   "outputs": [
    {
     "name": "stdout",
     "output_type": "stream",
     "text": [
      "Enter the First Statement: studies(J,z)\n",
      "Enter the Second Statement: studies(B,f(y))\n",
      "J and B are constants. Cannot be unified\n",
      "No Substitution\n"
     ]
    }
   ],
   "source": [
    "#test2-Agruments are constants\n",
    "main()"
   ]
  },
  {
   "cell_type": "code",
   "execution_count": 25,
   "metadata": {},
   "outputs": [
    {
     "name": "stdout",
     "output_type": "stream",
     "text": [
      "Enter the First Statement: issiblingof(a,b,c)\n",
      "Enter the Second Statement: ismotherof(x,y,z)\n",
      "Predicates issiblingof and ismotherof do not match. Cannot be unified\n",
      "No Substitution\n"
     ]
    }
   ],
   "source": [
    "#test3-Predicates are different \n",
    "main()"
   ]
  },
  {
   "cell_type": "code",
   "execution_count": 16,
   "metadata": {},
   "outputs": [
    {
     "name": "stdout",
     "output_type": "stream",
     "text": [
      "Enter the First Statement: likes(f(y),z)\n",
      "Enter the Second Statement: likes(Q,f(y))\n",
      "Substitutions:\n",
      "['Q / f(y)', 'Q / z']\n"
     ]
    }
   ],
   "source": [
    "#test4\n",
    "main()"
   ]
  },
  {
   "cell_type": "code",
   "execution_count": 26,
   "metadata": {},
   "outputs": [
    {
     "name": "stdout",
     "output_type": "stream",
     "text": [
      "Enter the First Statement: person(x)\n",
      "Enter the Second Statement: person(x,y)\n",
      "Length of attributes 1 and 2 do not match. Cannot be unified\n",
      "No Substitution\n"
     ]
    }
   ],
   "source": [
    "#test5-Mismatch in Number of arguments \n",
    "main()"
   ]
  },
  {
   "cell_type": "code",
   "execution_count": 27,
   "metadata": {},
   "outputs": [
    {
     "name": "stdout",
     "output_type": "stream",
     "text": [
      "Enter the First Statement: knows(f(x),M)\n",
      "Enter the Second Statement: knows(a,b)\n",
      "Substitutions:\n",
      "['f(x) / a', 'M / b']\n"
     ]
    }
   ],
   "source": [
    "#test6\n",
    "main()"
   ]
  }
 ],
 "metadata": {
  "kernelspec": {
   "display_name": "Python 3",
   "language": "python",
   "name": "python3"
  },
  "language_info": {
   "codemirror_mode": {
    "name": "ipython",
    "version": 3
   },
   "file_extension": ".py",
   "mimetype": "text/x-python",
   "name": "python",
   "nbconvert_exporter": "python",
   "pygments_lexer": "ipython3",
   "version": "3.8.3"
  }
 },
 "nbformat": 4,
 "nbformat_minor": 4
}
