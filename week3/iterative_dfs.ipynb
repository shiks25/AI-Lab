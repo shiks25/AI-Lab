{
 "cells": [
  {
   "cell_type": "code",
   "execution_count": 4,
   "metadata": {},
   "outputs": [],
   "source": [
    "from collections import defaultdict\n",
    "\n",
    "class Graph:\n",
    "\n",
    "    def __init__(self, vertices):\n",
    "        self.V = vertices\n",
    "        self.graph = defaultdict(list)\n",
    "\n",
    "    def addEdge(self, u, v):\n",
    "        self.graph[u].append(v)\n",
    "\n",
    "    def DLS(self, src, target, maxDepth):\n",
    "\n",
    "        if src == target: return True\n",
    "\n",
    "        if maxDepth <= 0: return False\n",
    "\n",
    "        for i in self.graph[src]:\n",
    "            if (self.DLS(i, target, maxDepth - 1)):\n",
    "                return True\n",
    "        return False\n",
    "\n",
    "    def IDS(self, src, target, maxDepth):\n",
    "        for i in range(maxDepth):\n",
    "            if (self.DLS(src, target, i+1)):\n",
    "                return True\n",
    "        return False\n",
    "   "
   ]
  },
  {
   "cell_type": "code",
   "execution_count": 5,
   "metadata": {},
   "outputs": [],
   "source": [
    "def test_iddfs():\n",
    "    n = int(input(\"Enter the number of vertices: \"))\n",
    "    g = Graph(n);\n",
    "    x = 1\n",
    "    print(\"Enter the Edges as pairs of vertices and -1 -1 to stop\")\n",
    "    while x != -1:\n",
    "        x, y = input(\"Add edge between: \").split()\n",
    "        x = int(x)\n",
    "        y = int(y)\n",
    "        if x == -1:\n",
    "            break\n",
    "        g.addEdge(x, y)\n",
    "\n",
    "    src = int(input(\"Enter the source vertex: \"))\n",
    "    target = int(input(\"Enter the target vertex to search: \"))\n",
    "    maxDepth = int(input(\"Enter the maximum depth: \"))\n",
    "    \n",
    "\n",
    "    if g.IDS(src, target, maxDepth) == True:\n",
    "        print(\"Target is reachable from source within max depth\")\n",
    "    else:\n",
    "        print(\"Target is NOT reachable from source within max depth\")\n"
   ]
  },
  {
   "cell_type": "code",
   "execution_count": 6,
   "metadata": {},
   "outputs": [
    {
     "name": "stdout",
     "output_type": "stream",
     "text": [
      "Enter the number of vertices: 8\n",
      "Enter the Edges as pairs of vertices and -1 -1 to stop\n",
      "Add edge between: 1 2\n",
      "Add edge between: 1 3\n",
      "Add edge between: 2 5\n",
      "Add edge between: 2 4\n",
      "Add edge between: 4 5\n",
      "Add edge between: 5 6\n",
      "Add edge between: 4 7\n",
      "Add edge between: 3 8\n",
      "Add edge between: -1 -1\n",
      "Enter the source vertex: 2\n",
      "Enter the target vertex to search: 5\n",
      "Enter the maximum depth: 1\n",
      "Target is reachable from source within max depth\n"
     ]
    }
   ],
   "source": [
    "test_iddfs()"
   ]
  },
  {
   "cell_type": "code",
   "execution_count": 7,
   "metadata": {},
   "outputs": [
    {
     "name": "stdout",
     "output_type": "stream",
     "text": [
      "Enter the number of vertices: 6\n",
      "Enter the Edges as pairs of vertices and -1 -1 to stop\n",
      "Add edge between: 1 2\n",
      "Add edge between: 1 3\n",
      "Add edge between: 2 4\n",
      "Add edge between: 2 6\n",
      "Add edge between: 3 5\n",
      "Add edge between: -1 -1\n",
      "Enter the source vertex: 1\n",
      "Enter the target vertex to search: 6\n",
      "Enter the maximum depth: 1\n",
      "Target is NOT reachable from source within max depth\n"
     ]
    }
   ],
   "source": [
    "test_iddfs()"
   ]
  },
  {
   "cell_type": "code",
   "execution_count": null,
   "metadata": {},
   "outputs": [],
   "source": []
  }
 ],
 "metadata": {
  "kernelspec": {
   "display_name": "Python 3",
   "language": "python",
   "name": "python3"
  },
  "language_info": {
   "codemirror_mode": {
    "name": "ipython",
    "version": 3
   },
   "file_extension": ".py",
   "mimetype": "text/x-python",
   "name": "python",
   "nbconvert_exporter": "python",
   "pygments_lexer": "ipython3",
   "version": "3.8.3"
  }
 },
 "nbformat": 4,
 "nbformat_minor": 4
}
