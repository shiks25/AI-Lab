{
 "cells": [
  {
   "cell_type": "markdown",
   "metadata": {},
   "source": [
    "#### Create a knowledge base using prepositional logic and show that the  given query entails the knowledge  base i.e KB|=q or not . "
   ]
  },
  {
   "cell_type": "code",
   "execution_count": 1,
   "metadata": {},
   "outputs": [],
   "source": [
    "#prepositional logic expression with 3 variables\n",
    "combinations=[(True,True,True),(True,True,False),(True,False,True),(True,False,False),(False,True,True),(False,True,False),\n",
    "              (False,False,True),(False,False,False)]\n",
    "variable={'p':0,'q':1,'r':2}\n",
    "#set of rules should be in cnf\n",
    "kb='' \n",
    "q=''\n",
    "priority={'~':3,'v':1,'^':2}"
   ]
  },
  {
   "cell_type": "code",
   "execution_count": 2,
   "metadata": {},
   "outputs": [],
   "source": [
    "def input_rules(): \n",
    "    global kb,q \n",
    "    kb=(input(\"Enter the knowledge base : \")) \n",
    "    q=input(\"Enter the query : \")"
   ]
  },
  {
   "cell_type": "code",
   "execution_count": 3,
   "metadata": {},
   "outputs": [],
   "source": [
    "def entailment():\n",
    "    global kb,q\n",
    "    print()\n",
    "    print('*'*10+\"Truth Table\"+'*'*10)\n",
    "    print('KB','     Q')\n",
    "    print('*'*10)\n",
    "    for x in combinations:\n",
    "        s=evaluatePostfix(toPostfix(kb),x)\n",
    "        f=evaluatePostfix(toPostfix(q),x)\n",
    "        print(s,f)\n",
    "        print('-'*10)\n",
    "        #KB true and query false implies false\n",
    "        if s and not f:  \n",
    "            return False\n",
    "    return True"
   ]
  },
  {
   "cell_type": "code",
   "execution_count": 4,
   "metadata": {},
   "outputs": [],
   "source": [
    "def isOperand(c):\n",
    "    return c.isalpha() and c!='v'\n",
    "def isLeftParenthesis(c):\n",
    "    return c=='('\n",
    "def isRightParenthesis(c):\n",
    "    return c==')'\n",
    "def isEmpty(stack):\n",
    "    return len(stack)==0\n",
    "def top(stack):\n",
    "    return stack[-1]\n",
    "def hasLessOrEqualPriority(c1,c2):\n",
    "    try: return priority[c1]<=priority[c2]\n",
    "    except KeyError: return False        "
   ]
  },
  {
   "cell_type": "code",
   "execution_count": 5,
   "metadata": {},
   "outputs": [],
   "source": [
    "def toPostfix(infix):\n",
    "    stack=[]\n",
    "    postfix=''\n",
    "    for c in infix:\n",
    "        if isOperand(c):\n",
    "            postfix+=c\n",
    "        else:\n",
    "            if isLeftParenthesis(c):\n",
    "                stack.append(c)\n",
    "            elif isRightParenthesis(c):\n",
    "                operator=stack.pop()\n",
    "                while not isLeftParenthesis(operator):\n",
    "                    postfix+=operator\n",
    "                    operator=stack.pop()\n",
    "            else:\n",
    "                while(not isEmpty(stack)) and hasLessOrEqualPriority(c,top(stack)):\n",
    "                    postfix+=stack.pop()\n",
    "                stack.append(c)\n",
    "            \n",
    "    while(not isEmpty(stack)):\n",
    "        postfix+=stack.pop()\n",
    "    return postfix"
   ]
  },
  {
   "cell_type": "code",
   "execution_count": 6,
   "metadata": {},
   "outputs": [],
   "source": [
    "def evaluatePostfix(exp,comb):\n",
    "    stack=[]\n",
    "    for i in exp:\n",
    "        if isOperand(i):\n",
    "            stack.append(comb[variable[i]])\n",
    "        elif i=='~':\n",
    "            val1=stack.pop()\n",
    "            stack.append(not val1)\n",
    "        else:\n",
    "            val1=stack.pop()\n",
    "            val2=stack.pop()\n",
    "            stack.append(_eval(i,val2,val1))\n",
    "    \n",
    "    return stack.pop()            "
   ]
  },
  {
   "cell_type": "code",
   "execution_count": 7,
   "metadata": {},
   "outputs": [],
   "source": [
    "def _eval(i,val1,val2):\n",
    "    if i=='^':return val2 and val1\n",
    "    return val2 or val1\n",
    "\n",
    "def main():\n",
    "    input_rules()\n",
    "    ans=entailment()\n",
    "    if ans: print(\"The knowledge base entails the query.\")\n",
    "    else: print(\"The knowledge base does not entail the query.\")"
   ]
  },
  {
   "cell_type": "code",
   "execution_count": 10,
   "metadata": {},
   "outputs": [
    {
     "name": "stdout",
     "output_type": "stream",
     "text": [
      "Enter the knowledge base : (~qv~pvr)^(~qvp)^q\n",
      "Enter the query : r\n",
      "\n",
      "**********Truth Table**********\n",
      "KB      Q\n",
      "**********\n",
      "True True\n",
      "----------\n",
      "False False\n",
      "----------\n",
      "False True\n",
      "----------\n",
      "False False\n",
      "----------\n",
      "False True\n",
      "----------\n",
      "False False\n",
      "----------\n",
      "False True\n",
      "----------\n",
      "False False\n",
      "----------\n",
      "The knowledge base entails the query.\n"
     ]
    }
   ],
   "source": [
    "#test1\n",
    "main()"
   ]
  },
  {
   "cell_type": "code",
   "execution_count": 12,
   "metadata": {},
   "outputs": [
    {
     "name": "stdout",
     "output_type": "stream",
     "text": [
      "Enter the knowledge base : pvq^(~rvq)\n",
      "Enter the query : (pvr)^q\n",
      "\n",
      "**********Truth Table**********\n",
      "KB      Q\n",
      "**********\n",
      "True True\n",
      "----------\n",
      "True True\n",
      "----------\n",
      "True False\n",
      "----------\n",
      "The knowledge base does not entail the query.\n"
     ]
    }
   ],
   "source": [
    "#test2\n",
    "main()"
   ]
  },
  {
   "cell_type": "code",
   "execution_count": null,
   "metadata": {},
   "outputs": [],
   "source": []
  }
 ],
 "metadata": {
  "kernelspec": {
   "display_name": "Python 3",
   "language": "python",
   "name": "python3"
  },
  "language_info": {
   "codemirror_mode": {
    "name": "ipython",
    "version": 3
   },
   "file_extension": ".py",
   "mimetype": "text/x-python",
   "name": "python",
   "nbconvert_exporter": "python",
   "pygments_lexer": "ipython3",
   "version": "3.8.3"
  }
 },
 "nbformat": 4,
 "nbformat_minor": 4
}
