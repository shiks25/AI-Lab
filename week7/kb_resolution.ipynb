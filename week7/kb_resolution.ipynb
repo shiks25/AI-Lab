{
 "cells": [
  {
   "cell_type": "markdown",
   "metadata": {},
   "source": [
    "### Create a knowledgebase using prepositional logic and prove the given query using resolution\n",
    "### Shikha N(1BM18CS149)"
   ]
  },
  {
   "cell_type": "code",
   "execution_count": 1,
   "metadata": {},
   "outputs": [],
   "source": [
    "class KnowledgeBase:\n",
    "    def __init__(self, sentence = None):\n",
    "        self.clauses = []\n",
    "        if sentence:\n",
    "            self.tell(sentence)\n",
    "        \n",
    "    def tell(self, sentence):\n",
    "        self.clauses.extend(disCombine('and', sentence))\n",
    "        \n",
    "def combine(op, elements):\n",
    "    if len(elements) == 0:\n",
    "        return elements\n",
    "    elif len(elements) == 1:\n",
    "        return elements[0]\n",
    "    elif op == 'and':\n",
    "        return ['and'] + elements\n",
    "    elif op == 'or':\n",
    "        return ['or'] + elements\n",
    "\n",
    "def disCombine(op, clause):\n",
    "    result = []\n",
    "    if type(clause) == str:\n",
    "        return [clause]\n",
    "    elif len(clause) <= 2:    \n",
    "        return [clause]\n",
    "    elif op == clause[0]:\n",
    "        return clause[1:]\n",
    "    else:\n",
    "        return [clause]"
   ]
  },
  {
   "cell_type": "code",
   "execution_count": 2,
   "metadata": {},
   "outputs": [],
   "source": [
    "def negation(s):\n",
    "    if len(s)==1:\n",
    "        return ['not', s]\n",
    "    elif s[0] == 'not':\n",
    "        return s[1]\n",
    "    elif s[0] == 'and':\n",
    "        temp= ['or']\n",
    "        for element in s[1:]:\n",
    "            temp.append(negation(element))\n",
    "        return temp\n",
    "    elif s[0] == 'or':\n",
    "        temp = ['and']\n",
    "        for element in s[1:]:\n",
    "            temp.append(negation(element))\n",
    "        return temp\n",
    "\n",
    "def isSublistOf(l1, l2):\n",
    "    for element in l1:\n",
    "        if not element in l2:\n",
    "            return False\n",
    "    return True"
   ]
  },
  {
   "cell_type": "code",
   "execution_count": 3,
   "metadata": {},
   "outputs": [],
   "source": [
    "def Resolution(kb_inp,query):\n",
    "    #kb_inp=['and','P',['or', ['not','P'], 'Q']]\n",
    "    kb = KnowledgeBase()\n",
    "    for clause in kb_inp[1:]:\n",
    "        kb.tell(clause)\n",
    "    #query='Q'\n",
    "    clauses = kb.clauses + disCombine('and', negation(query))\n",
    "    new = []\n",
    "    while True:\n",
    "        n = len(clauses)\n",
    "        pairs = [(clauses[i], clauses[j]) for i in range(n) for j in range(i+1, n)]\n",
    "        for (ci, cj) in pairs:\n",
    "            resolvents = Resolve(ci, cj)\n",
    "            if resolvents:\n",
    "                print(\"After doing resolution for %s and %s we get %s \\n\" % (ci, cj, resolvents))\n",
    "            if [] in resolvents:\n",
    "                print('Knowledge Base entails the query, proved by resolution')\n",
    "                return \n",
    "            for tempd in resolvents:\n",
    "                if not tempd in new:\n",
    "                    new.append(tempd)\n",
    "        if isSublistOf(new, clauses):\n",
    "            print(\"Knowledge Base doesn't entail the query, no empty set produced after resolution\")\n",
    "            return\n",
    "        for cc in new:\n",
    "            if not cc in clauses:\n",
    "                clauses.append(cc)\n",
    "                \n",
    "def Resolve(ci, cj):\n",
    "    clauses = []\n",
    "    for di in disCombine('or', ci):\n",
    "        for dj in disCombine('or',cj):\n",
    "            if di == negation(dj) or negation(di) == dj:\n",
    "                diNew = disCombine('or', ci)\n",
    "                diNew.remove(di)\n",
    "                djNew = disCombine('or', cj)\n",
    "                djNew.remove(dj)\n",
    "                dNew = diNew + djNew\n",
    "                toAdd = combine('or', dNew)\n",
    "                clauses.append(toAdd)\n",
    "    return clauses"
   ]
  },
  {
   "cell_type": "markdown",
   "metadata": {},
   "source": [
    "#### Note:The function 'Resolution' only prints the clauses which could be resolved but tries all posible combinations"
   ]
  },
  {
   "cell_type": "code",
   "execution_count": 4,
   "metadata": {},
   "outputs": [
    {
     "name": "stdout",
     "output_type": "stream",
     "text": [
      "After doing resolution for P and ['or', ['not', 'P'], 'Q'] we get ['Q'] \n",
      "\n",
      "After doing resolution for ['or', ['not', 'P'], 'Q'] and ['not', 'Q'] we get [['not', 'P']] \n",
      "\n",
      "After doing resolution for P and ['or', ['not', 'P'], 'Q'] we get ['Q'] \n",
      "\n",
      "After doing resolution for P and ['not', 'P'] we get [[]] \n",
      "\n",
      "Knowledge Base entails the query, proved by resolution\n"
     ]
    }
   ],
   "source": [
    "#test1\n",
    "kb_inp=['and','P',['or', ['not','P'], 'Q']]\n",
    "query='Q'\n",
    "Resolution(kb_inp,query)"
   ]
  },
  {
   "cell_type": "code",
   "execution_count": 5,
   "metadata": {},
   "outputs": [
    {
     "name": "stdout",
     "output_type": "stream",
     "text": [
      "After doing resolution for a and ['or', ['not', 'a'], 'b'] we get ['b'] \n",
      "\n",
      "After doing resolution for ['or', 'c', 'd'] and ['not', 'c'] we get ['d'] \n",
      "\n",
      "Knowledge Base doesn't entail the query, no empty set produced after resolution\n"
     ]
    }
   ],
   "source": [
    "#test2\n",
    "kb=['and','a','b',['or', ['not','a'], 'b'],['or', 'c', 'd'],'d']\n",
    "query='c'\n",
    "Resolution(kb,query)"
   ]
  },
  {
   "cell_type": "code",
   "execution_count": 6,
   "metadata": {},
   "outputs": [
    {
     "name": "stdout",
     "output_type": "stream",
     "text": [
      "After doing resolution for a and ['not', 'a'] we get [[]] \n",
      "\n",
      "Knowledge Base entails the query, proved by resolution\n"
     ]
    }
   ],
   "source": [
    "#test3\n",
    "kb=['and','a','b','c','d']\n",
    "query=['or', 'a', 'b', 'c', 'd']\n",
    "Resolution(kb,query)"
   ]
  },
  {
   "cell_type": "code",
   "execution_count": 7,
   "metadata": {},
   "outputs": [
    {
     "name": "stdout",
     "output_type": "stream",
     "text": [
      "After doing resolution for ['or', 'p', 'q'] and ['or', ['not', 'q'], 's'] we get [['or', 'p', 's']] \n",
      "\n",
      "After doing resolution for ['or', 'p', 'q'] and ['or', ['not', 'p'], 'r'] we get [['or', 'r', 'q']] \n",
      "\n",
      "After doing resolution for ['or', ['not', 'p'], 'r'] and ['not', 'r'] we get [['not', 'p']] \n",
      "\n",
      "After doing resolution for ['or', 'p', 'q'] and ['or', ['not', 'q'], 's'] we get [['or', 'p', 's']] \n",
      "\n",
      "After doing resolution for ['or', 'p', 'q'] and ['or', ['not', 'p'], 'r'] we get [['or', 'r', 'q']] \n",
      "\n",
      "After doing resolution for ['or', 'p', 'q'] and ['not', 'p'] we get ['q'] \n",
      "\n",
      "After doing resolution for ['or', ['not', 'q'], 's'] and ['or', 'r', 'q'] we get [['or', 's', 'r']] \n",
      "\n",
      "After doing resolution for ['or', ['not', 'p'], 'r'] and ['not', 'r'] we get [['not', 'p']] \n",
      "\n",
      "After doing resolution for ['or', ['not', 'p'], 'r'] and ['or', 'p', 's'] we get [['or', 'r', 's']] \n",
      "\n",
      "After doing resolution for ['not', 'r'] and ['or', 'r', 'q'] we get ['q'] \n",
      "\n",
      "After doing resolution for ['or', 'p', 's'] and ['not', 'p'] we get ['s'] \n",
      "\n",
      "After doing resolution for ['or', 'p', 'q'] and ['or', ['not', 'q'], 's'] we get [['or', 'p', 's']] \n",
      "\n",
      "After doing resolution for ['or', 'p', 'q'] and ['or', ['not', 'p'], 'r'] we get [['or', 'r', 'q']] \n",
      "\n",
      "After doing resolution for ['or', 'p', 'q'] and ['not', 'p'] we get ['q'] \n",
      "\n",
      "After doing resolution for ['or', ['not', 'q'], 's'] and ['or', 'r', 'q'] we get [['or', 's', 'r']] \n",
      "\n",
      "After doing resolution for ['or', ['not', 'q'], 's'] and q we get ['s'] \n",
      "\n",
      "After doing resolution for ['or', ['not', 'p'], 'r'] and ['not', 'r'] we get [['not', 'p']] \n",
      "\n",
      "After doing resolution for ['or', ['not', 'p'], 'r'] and ['or', 'p', 's'] we get [['or', 'r', 's']] \n",
      "\n",
      "After doing resolution for ['not', 'r'] and ['or', 'r', 'q'] we get ['q'] \n",
      "\n",
      "After doing resolution for ['not', 'r'] and ['or', 's', 'r'] we get ['s'] \n",
      "\n",
      "After doing resolution for ['not', 'r'] and ['or', 'r', 's'] we get ['s'] \n",
      "\n",
      "After doing resolution for ['or', 'p', 's'] and ['not', 'p'] we get ['s'] \n",
      "\n",
      "Knowledge Base doesn't entail the query, no empty set produced after resolution\n"
     ]
    }
   ],
   "source": [
    "#test4\n",
    "kb=['and','s',['or','p','q'],['or',['not','q'],'s'],['or',['not','p'],'r']]\n",
    "query='r'\n",
    "Resolution(kb,query)"
   ]
  },
  {
   "cell_type": "code",
   "execution_count": 9,
   "metadata": {},
   "outputs": [
    {
     "name": "stdout",
     "output_type": "stream",
     "text": [
      "After doing resolution for ['or', 'p', 'q'] and ['or', ['not', 'p'], 'r'] we get [['or', 'r', 'q']] \n",
      "\n",
      "After doing resolution for ['or', 'p', 'q'] and ['or', ['not', 'q'], 's'] we get [['or', 'p', 's']] \n",
      "\n",
      "After doing resolution for ['or', ['not', 'p'], 'r'] and ['not', 'r'] we get [['not', 'p']] \n",
      "\n",
      "After doing resolution for ['or', ['not', 'q'], 's'] and ['not', 's'] we get [['not', 'q']] \n",
      "\n",
      "After doing resolution for ['or', 'p', 'q'] and ['or', ['not', 'p'], 'r'] we get [['or', 'r', 'q']] \n",
      "\n",
      "After doing resolution for ['or', 'p', 'q'] and ['or', ['not', 'q'], 's'] we get [['or', 'p', 's']] \n",
      "\n",
      "After doing resolution for ['or', 'p', 'q'] and ['not', 'p'] we get ['q'] \n",
      "\n",
      "After doing resolution for ['or', 'p', 'q'] and ['not', 'q'] we get ['p'] \n",
      "\n",
      "After doing resolution for ['or', ['not', 'p'], 'r'] and ['not', 'r'] we get [['not', 'p']] \n",
      "\n",
      "After doing resolution for ['or', ['not', 'p'], 'r'] and ['or', 'p', 's'] we get [['or', 'r', 's']] \n",
      "\n",
      "After doing resolution for ['or', ['not', 'q'], 's'] and ['not', 's'] we get [['not', 'q']] \n",
      "\n",
      "After doing resolution for ['or', ['not', 'q'], 's'] and ['or', 'r', 'q'] we get [['or', 's', 'r']] \n",
      "\n",
      "After doing resolution for ['not', 's'] and ['or', 'p', 's'] we get ['p'] \n",
      "\n",
      "After doing resolution for ['not', 'r'] and ['or', 'r', 'q'] we get ['q'] \n",
      "\n",
      "After doing resolution for ['or', 'r', 'q'] and ['not', 'q'] we get ['r'] \n",
      "\n",
      "After doing resolution for ['or', 'p', 's'] and ['not', 'p'] we get ['s'] \n",
      "\n",
      "After doing resolution for ['or', 'p', 'q'] and ['or', ['not', 'p'], 'r'] we get [['or', 'r', 'q']] \n",
      "\n",
      "After doing resolution for ['or', 'p', 'q'] and ['or', ['not', 'q'], 's'] we get [['or', 'p', 's']] \n",
      "\n",
      "After doing resolution for ['or', 'p', 'q'] and ['not', 'p'] we get ['q'] \n",
      "\n",
      "After doing resolution for ['or', 'p', 'q'] and ['not', 'q'] we get ['p'] \n",
      "\n",
      "After doing resolution for ['or', ['not', 'p'], 'r'] and ['not', 'r'] we get [['not', 'p']] \n",
      "\n",
      "After doing resolution for ['or', ['not', 'p'], 'r'] and ['or', 'p', 's'] we get [['or', 'r', 's']] \n",
      "\n",
      "After doing resolution for ['or', ['not', 'p'], 'r'] and p we get ['r'] \n",
      "\n",
      "After doing resolution for ['or', ['not', 'q'], 's'] and ['not', 's'] we get [['not', 'q']] \n",
      "\n",
      "After doing resolution for ['or', ['not', 'q'], 's'] and ['or', 'r', 'q'] we get [['or', 's', 'r']] \n",
      "\n",
      "After doing resolution for ['or', ['not', 'q'], 's'] and q we get ['s'] \n",
      "\n",
      "After doing resolution for ['not', 's'] and ['or', 'p', 's'] we get ['p'] \n",
      "\n",
      "After doing resolution for ['not', 's'] and ['or', 'r', 's'] we get ['r'] \n",
      "\n",
      "After doing resolution for ['not', 's'] and ['or', 's', 'r'] we get ['r'] \n",
      "\n",
      "After doing resolution for ['not', 's'] and s we get [[]] \n",
      "\n",
      "Knowledge Base entails the query, proved by resolution\n"
     ]
    }
   ],
   "source": [
    "#test5\n",
    "kb=['and',['or','p','q'],['or',['not','p'],'r'],['or',['not','q'],'s'],['not','s']]\n",
    "query='r'\n",
    "Resolution(kb,query)"
   ]
  },
  {
   "cell_type": "code",
   "execution_count": null,
   "metadata": {},
   "outputs": [],
   "source": []
  }
 ],
 "metadata": {
  "kernelspec": {
   "display_name": "Python 3",
   "language": "python",
   "name": "python3"
  },
  "language_info": {
   "codemirror_mode": {
    "name": "ipython",
    "version": 3
   },
   "file_extension": ".py",
   "mimetype": "text/x-python",
   "name": "python",
   "nbconvert_exporter": "python",
   "pygments_lexer": "ipython3",
   "version": "3.8.3"
  }
 },
 "nbformat": 4,
 "nbformat_minor": 4
}
