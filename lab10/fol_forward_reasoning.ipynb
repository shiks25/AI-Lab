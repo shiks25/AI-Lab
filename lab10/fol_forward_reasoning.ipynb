{
 "cells": [
  {
   "cell_type": "markdown",
   "metadata": {},
   "source": [
    "### Program 10\n",
    "#### Create a knowledgebase consisting of first order logic statements and prove the given query using forward reasoning."
   ]
  },
  {
   "cell_type": "code",
   "execution_count": 1,
   "metadata": {},
   "outputs": [],
   "source": [
    "import re\n",
    "\n",
    "def isVariable(x):\n",
    "    return len(x) == 1 and x.islower() and x.isalpha()\n",
    "\n",
    "def getAttributes(string):\n",
    "    expr = '\\([^)]+\\)'\n",
    "    matches = re.findall(expr, string)\n",
    "    return matches\n",
    "\n",
    "def getPredicates(string):\n",
    "    expr = '([a-z~]+)\\([^&|]+\\)'\n",
    "    return re.findall(expr, string)"
   ]
  },
  {
   "cell_type": "code",
   "execution_count": 2,
   "metadata": {},
   "outputs": [],
   "source": [
    "class Fact:\n",
    "    def __init__(self, expression):\n",
    "        self.expression = expression\n",
    "        predicate, params = self.splitExpression(expression)\n",
    "        self.predicate = predicate\n",
    "        self.params = params\n",
    "        self.result = any(self.getConstants())\n",
    "        \n",
    "    def splitExpression(self, expression):\n",
    "        predicate = getPredicates(expression)[0]\n",
    "        params = getAttributes(expression)[0].strip('()').split(',')\n",
    "        return [predicate, params]\n",
    "    \n",
    "    def getResult(self):\n",
    "        return self.result\n",
    "    \n",
    "    def getConstants(self):\n",
    "        return [None if isVariable(c) else c for c in self.params]\n",
    "    \n",
    "    def getVariables(self):\n",
    "        return [v if isVariable(v) else None for v in self.params]\n",
    "    \n",
    "    def substitute(self, constants):\n",
    "        c = constants.copy()\n",
    "        f = f\"{self.predicate}({','.join([constants.pop(0) if isVariable(p) else p for p in self.params])})\"\n",
    "        return Fact(f)"
   ]
  },
  {
   "cell_type": "code",
   "execution_count": 3,
   "metadata": {},
   "outputs": [],
   "source": [
    "class Implication:\n",
    "    def __init__(self, expression):\n",
    "        self.expression = expression\n",
    "        l = expression.split('=>')\n",
    "        self.lhs = [Fact(f) for f in l[0].split('&')]\n",
    "        self.rhs = Fact(l[1])\n",
    "        \n",
    "    def evaluate(self, facts):\n",
    "        constants = {}\n",
    "        new_lhs = []\n",
    "        for fact in facts:\n",
    "            for val in self.lhs:\n",
    "                if val.predicate == fact.predicate:\n",
    "                    for i, v in enumerate(val.getVariables()):\n",
    "                        if v:\n",
    "                            constants[v] = fact.getConstants()[i]\n",
    "                    new_lhs.append(fact)\n",
    "        predicate, attributes = getPredicates(self.rhs.expression)[0], str(getAttributes(self.rhs.expression)[0])\n",
    "        for key in constants:\n",
    "            if constants[key]:\n",
    "                attributes = attributes.replace(key, constants[key])\n",
    "        expr = f'{predicate}{attributes}'\n",
    "        return Fact(expr) if len(new_lhs) and all([f.getResult() for f in new_lhs]) else None"
   ]
  },
  {
   "cell_type": "code",
   "execution_count": 4,
   "metadata": {},
   "outputs": [],
   "source": [
    "class KB:\n",
    "    def __init__(self):\n",
    "        self.facts = set()\n",
    "        self.implications = set()\n",
    "            \n",
    "    def tell(self, e):\n",
    "        if '=>' in e:\n",
    "            self.implications.add(Implication(e))\n",
    "        else:\n",
    "            self.facts.add(Fact(e))\n",
    "        for i in self.implications:\n",
    "            res = i.evaluate(self.facts)\n",
    "            if res:\n",
    "                self.facts.add(res)\n",
    "\n",
    "    def query(self, e):\n",
    "        facts = set([f.expression for f in self.facts])\n",
    "        i = 1\n",
    "        print(f'Querying {e}:')\n",
    "        for f in facts:\n",
    "            if Fact(f).predicate == Fact(e).predicate:\n",
    "                print(f'\\t{i}. {f}')\n",
    "                i += 1\n",
    "    \n",
    "    def display(self):\n",
    "        print(\"All facts: \")\n",
    "        for i, f in enumerate(set([f.expression for f in self.facts])):\n",
    "            print(f'\\t{i+1}. {f}')"
   ]
  },
  {
   "cell_type": "code",
   "execution_count": 5,
   "metadata": {},
   "outputs": [],
   "source": [
    "def main():\n",
    "    kb = KB()\n",
    "    print(\"Enter Knowledge Base: (enter 'exit' to stop)\")\n",
    "    while True:\n",
    "        tell = input()\n",
    "        if(tell == 'exit'):\n",
    "            break\n",
    "        kb.tell(tell)\n",
    "    print(\"Enter the Query:\")\n",
    "    q = input()\n",
    "    kb.query(q)\n",
    "    kb.display()"
   ]
  },
  {
   "cell_type": "markdown",
   "metadata": {},
   "source": [
    "### Test Cases"
   ]
  },
  {
   "cell_type": "code",
   "execution_count": 6,
   "metadata": {},
   "outputs": [
    {
     "name": "stdout",
     "output_type": "stream",
     "text": [
      "Enter Knowledge Base: (enter 'exit' to stop)\n",
      "missile(x)=>weapon(x)\n",
      "missile(M1)\n",
      "enemy(x,America)=>hostile(x)\n",
      "american(West)\n",
      "enemy(Nono,America)\n",
      "owns(Nono,M1)\n",
      "missile(x)&owns(Nono,x)=>sells(West,x,Nono)\n",
      "american(x)&weapon(y)&sells(x,y,z)&hostile(z)=>criminal(x)\n",
      "exit\n",
      "Enter the Query:\n",
      "criminal(x)\n",
      "Querying criminal(x):\n",
      "\t1. criminal(West)\n",
      "All facts: \n",
      "\t1. owns(Nono,M1)\n",
      "\t2. weapon(M1)\n",
      "\t3. missile(M1)\n",
      "\t4. criminal(West)\n",
      "\t5. american(West)\n",
      "\t6. sells(West,M1,Nono)\n",
      "\t7. hostile(Nono)\n",
      "\t8. enemy(Nono,America)\n"
     ]
    }
   ],
   "source": [
    "#test1\n",
    "main()"
   ]
  },
  {
   "cell_type": "code",
   "execution_count": 7,
   "metadata": {},
   "outputs": [
    {
     "name": "stdout",
     "output_type": "stream",
     "text": [
      "Enter Knowledge Base: (enter 'exit' to stop)\n",
      "animal(x)&eats(x)=>alive(x)\n",
      "animal(Lion)\n",
      "eats(flesh)\n",
      "animal(deer)\n",
      "exit\n",
      "Enter the Query:\n",
      "alive(x)\n",
      "Querying alive(x):\n",
      "\t1. alive(Lion)\n",
      "All facts: \n",
      "\t1. animal(deer)\n",
      "\t2. eats(flesh)\n",
      "\t3. alive(Lion)\n",
      "\t4. animal(Lion)\n"
     ]
    }
   ],
   "source": [
    "#test2\n",
    "main()"
   ]
  },
  {
   "cell_type": "code",
   "execution_count": null,
   "metadata": {},
   "outputs": [],
   "source": []
  }
 ],
 "metadata": {
  "kernelspec": {
   "display_name": "Python 3",
   "language": "python",
   "name": "python3"
  },
  "language_info": {
   "codemirror_mode": {
    "name": "ipython",
    "version": 3
   },
   "file_extension": ".py",
   "mimetype": "text/x-python",
   "name": "python",
   "nbconvert_exporter": "python",
   "pygments_lexer": "ipython3",
   "version": "3.8.3"
  }
 },
 "nbformat": 4,
 "nbformat_minor": 4
}
