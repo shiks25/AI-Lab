{
 "cells": [
  {
   "cell_type": "markdown",
   "metadata": {},
   "source": [
    "### Lab Prog 8 : Implement unification in first order logic"
   ]
  },
  {
   "cell_type": "code",
   "execution_count": 1,
   "metadata": {},
   "outputs": [],
   "source": [
    "import re\n",
    "def getAttributes(expr):\n",
    "    expr = expr.split(\"(\")[1:] \n",
    "    expr = \"(\".join(expr) \n",
    "    expr = expr.split(\")\")[:-1] \n",
    "    expr = \")\".join(expr)\n",
    "    attributes = expr.split(',')\n",
    "    return attributes\n",
    "\n",
    "def getInitialPredicate(expression):\n",
    "    return expression.split(\"(\")[0]\n",
    "\n",
    "def isConstant(char):\n",
    "    return char.isupper() and len(char) == 1\n",
    "\n",
    "def isVariable(char):\n",
    "    return char.islower() and len(char) == 1\n",
    "\n",
    "def replaceAttributes(exp, old, new):\n",
    "    attributes = getAttributes(exp)\n",
    "    \n",
    "    for index, val in enumerate(attributes):\n",
    "        if val == old:\n",
    "            attributes[index] = new\n",
    "    predicate = getInitialPredicate(exp)\n",
    "    return predicate + \"(\" + \",\".join(attributes) + \")\""
   ]
  },
  {
   "cell_type": "code",
   "execution_count": 2,
   "metadata": {},
   "outputs": [],
   "source": [
    "def apply(exp, subs):\n",
    "    for sub in subs:\n",
    "        new, old = sub[0],sub[2]  # substitution is a tuple of 2 values (new, old)\n",
    "        exp = replaceAttributes(exp, old, new)\n",
    "    return exp\n",
    "\n",
    "def checkOccurs(var, exp):\n",
    "    if exp.find(var) == -1:\n",
    "        return False\n",
    "    return True\n",
    "\n",
    "\n",
    "def getFirstPart(exp):\n",
    "    attributes = getAttributes(exp)\n",
    "    return attributes[0]\n",
    "\n",
    "\n",
    "def getRemainingPart(exp):\n",
    "    predicate = getInitialPredicate(exp)\n",
    "    attributes = getAttributes(exp)\n",
    "    newExp = predicate + \"(\" + \",\".join(attributes[1:]) + \")\"\n",
    "    return newExp"
   ]
  },
  {
   "cell_type": "code",
   "execution_count": 3,
   "metadata": {},
   "outputs": [],
   "source": [
    "def unify(exp1, exp2):\n",
    "    if exp1 == exp2:\n",
    "        return []\n",
    "\n",
    "    if isConstant(exp1) and isConstant(exp2):\n",
    "        if exp1 != exp2:\n",
    "            print(f\"{exp1} and {exp2} are constants. Cannot be unified\")\n",
    "            return False\n",
    "\n",
    "    if isConstant(exp1):\n",
    "        return [(exp1,'|', exp2)]\n",
    "\n",
    "    if isConstant(exp2):\n",
    "        return [(exp2,'|', exp1)]\n",
    "\n",
    "    if isVariable(exp1):\n",
    "        if checkOccurs(exp1, exp2):\n",
    "            \n",
    "            return False\n",
    "        else:\n",
    "            \n",
    "            return [(exp2,'|', exp1)]\n",
    "\n",
    "    if isVariable(exp2):\n",
    "        if checkOccurs(exp2, exp1):\n",
    "            return False\n",
    "        else:\n",
    "            return [(exp1,'|', exp2)]\n",
    "\n",
    "    if getInitialPredicate(exp1) != getInitialPredicate(exp2):\n",
    "        print(\"Predicates do not match. Cannot be unified\")\n",
    "        return False\n",
    "    \n",
    "    a1 = len(getAttributes(exp1))\n",
    "    a2 = len(getAttributes(exp2))\n",
    "    if a1 != a2:\n",
    "        print(\"Length of attributes do not match. Cannot be unified\")\n",
    "        return False\n",
    "\n",
    "    head1 = getFirstPart(exp1)\n",
    "    head2 = getFirstPart(exp2)\n",
    "    initialSub = unify(head1, head2)\n",
    "    \n",
    "    if not initialSub:\n",
    "        return False\n",
    "    if a1 == 1:\n",
    "        return initialSub\n",
    "\n",
    "    tail1 = getRemainingPart(exp1)\n",
    "    tail2 = getRemainingPart(exp2)\n",
    "    \n",
    "    if initialSub!= []:\n",
    "        tail1 = apply(tail1, initialSub)\n",
    "        tail2 = apply(tail2, initialSub)\n",
    "        \n",
    "    remainingSubs= unify(tail1, tail2)\n",
    "    if not remainingSubs:\n",
    "        return False\n",
    "    initialSub.extend(remainingSubs)\n",
    "    return initialSub"
   ]
  },
  {
   "cell_type": "code",
   "execution_count": 4,
   "metadata": {},
   "outputs": [
    {
     "name": "stdout",
     "output_type": "stream",
     "text": [
      "Substitutions:\n",
      "[('J', '|', 'x'), ('B', '|', 'y')]\n"
     ]
    }
   ],
   "source": [
    "#test1\n",
    "exp1 = \"knows(J,y)\"\n",
    "exp2 = \"knows(x,B)\"\n",
    "subs = unify(exp1, exp2)\n",
    "print(\"Substitutions:\")\n",
    "print(subs)"
   ]
  },
  {
   "cell_type": "code",
   "execution_count": 5,
   "metadata": {},
   "outputs": [
    {
     "name": "stdout",
     "output_type": "stream",
     "text": [
      "J and B are constants. Cannot be unified\n",
      "Substitutions:\n",
      "False\n"
     ]
    }
   ],
   "source": [
    "#test2\n",
    "exp1 = \"studies(J,z)\"\n",
    "exp2 = \"studies(B,f(y))\"\n",
    "subs = unify(exp1, exp2)\n",
    "print(\"Substitutions:\")\n",
    "print(subs)"
   ]
  },
  {
   "cell_type": "code",
   "execution_count": 6,
   "metadata": {},
   "outputs": [
    {
     "name": "stdout",
     "output_type": "stream",
     "text": [
      "Enter Exp1:  ismotherof(x,y,z)\n",
      "Enter Exp2:  issiblingof(a,b,c)\n",
      "Predicates do not match. Cannot be unified\n",
      "Substitutions:\n",
      "False\n"
     ]
    }
   ],
   "source": [
    "#test3\n",
    "exp1 = input(\"Enter Exp1:  \")\n",
    "#ismotherof(x,y,z)\n",
    "exp2 = input(\"Enter Exp2:  \")\n",
    "#issiblingof(a,b,c)\n",
    "subs = unify(exp1, exp2)\n",
    "print(\"Substitutions:\")\n",
    "print(subs)"
   ]
  },
  {
   "cell_type": "code",
   "execution_count": 7,
   "metadata": {},
   "outputs": [
    {
     "name": "stdout",
     "output_type": "stream",
     "text": [
      "Enter Exp1:  likes(f(y),z)\n",
      "Enter Exp2:  likes(Q,f(y))\n",
      "Substitutions:\n",
      "[('Q', '|', 'f(y)'), ('Q', '|', 'z')]\n"
     ]
    }
   ],
   "source": [
    "#test4\n",
    "exp1 = input(\"Enter Exp1:  \")\n",
    "#likes(f(y),z)\n",
    "exp2 = input(\"Enter Exp2:  \") \n",
    "#likes(Q,f(y))\n",
    "subs = unify(exp1, exp2)\n",
    "print(\"Substitutions:\")\n",
    "print(subs)"
   ]
  },
  {
   "cell_type": "code",
   "execution_count": 8,
   "metadata": {},
   "outputs": [
    {
     "name": "stdout",
     "output_type": "stream",
     "text": [
      "Enter Exp1:  person(x)\n",
      "Enter Exp2:  person(x,y)\n",
      "Length of attributes do not match. Cannot be unified\n",
      "Substitutions:\n",
      "False\n"
     ]
    }
   ],
   "source": [
    "#test5\n",
    "exp1 = input(\"Enter Exp1:  \")\n",
    "#person(x)\n",
    "exp2 = input(\"Enter Exp2:  \") \n",
    "#person(x,y)\n",
    "subs = unify(exp1, exp2)\n",
    "print(\"Substitutions:\")\n",
    "print(subs)"
   ]
  },
  {
   "cell_type": "code",
   "execution_count": 9,
   "metadata": {},
   "outputs": [
    {
     "name": "stdout",
     "output_type": "stream",
     "text": [
      "Substitutions:\n",
      "[('f(x)', '|', 'a'), ('M', '|', 'b')]\n"
     ]
    }
   ],
   "source": [
    "#test6\n",
    "exp1 = \"knows(f(x),M)\"\n",
    "exp2 = \"knows(a,b)\"\n",
    "subs = unify(exp1, exp2)\n",
    "print(\"Substitutions:\")\n",
    "print(subs)"
   ]
  },
  {
   "cell_type": "code",
   "execution_count": null,
   "metadata": {},
   "outputs": [],
   "source": []
  }
 ],
 "metadata": {
  "kernelspec": {
   "display_name": "Python 3",
   "language": "python",
   "name": "python3"
  },
  "language_info": {
   "codemirror_mode": {
    "name": "ipython",
    "version": 3
   },
   "file_extension": ".py",
   "mimetype": "text/x-python",
   "name": "python",
   "nbconvert_exporter": "python",
   "pygments_lexer": "ipython3",
   "version": "3.8.3"
  }
 },
 "nbformat": 4,
 "nbformat_minor": 4
}
