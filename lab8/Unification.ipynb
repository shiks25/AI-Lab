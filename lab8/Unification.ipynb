{
 "cells": [
  {
   "cell_type": "markdown",
   "metadata": {},
   "source": [
    "### Lab Prog 8 : Implement unification in first order logic"
   ]
  },
  {
   "cell_type": "code",
   "execution_count": 17,
   "metadata": {},
   "outputs": [],
   "source": [
    "import re\n",
    "def getAttributes(expr):\n",
    "    expr = expr.split(\"(\")[1:]\n",
    "    expr = \"(\".join(expr)\n",
    "    expr = expr[:-1]\n",
    "    expr = re.split(\"(?<!\\(.),(?!.\\))\", expr)\n",
    "    return expr\n",
    "\n",
    "def getInitialPredicate(expression):\n",
    "    return expression.split(\"(\")[0]\n",
    "\n",
    "\n",
    "def isConstant(char):\n",
    "    return char.isupper() and len(char) == 1\n",
    "\n",
    "def isVariable(char):\n",
    "    return char.islower() and len(char) == 1\n",
    "\n",
    "def replaceAttributes(exp, old, new):\n",
    "    attributes = getAttributes(exp)\n",
    "    \n",
    "    for index, val in enumerate(attributes):\n",
    "        if val == old:\n",
    "            attributes[index] = new\n",
    "    predicate = getInitialPredicate(exp)\n",
    "    return predicate + \"(\" + \",\".join(attributes) + \")\""
   ]
  },
  {
   "cell_type": "code",
   "execution_count": 18,
   "metadata": {},
   "outputs": [],
   "source": [
    "def apply(exp, subs):\n",
    "    for sub in subs:\n",
    "        new, old = sub[0],sub[2]  # sub is a tuple of 2 values (new, old)\n",
    "        exp = replaceAttributes(exp, old, new)\n",
    "    return exp\n",
    "\n",
    "def checkOccurs(var, exp):\n",
    "    if exp.find(var) == -1:\n",
    "        return False\n",
    "    return True\n",
    "\n",
    "\n",
    "def getFirstPart(exp):\n",
    "    attributes = getAttributes(exp)\n",
    "    return attributes[0]\n",
    "\n",
    "\n",
    "def getRemainingPart(exp):\n",
    "    predicate = getInitialPredicate(exp)\n",
    "    attributes = getAttributes(exp)\n",
    "    newExp = predicate + \"(\" + \",\".join(attributes[1:]) + \")\"\n",
    "    return newExp"
   ]
  },
  {
   "cell_type": "code",
   "execution_count": 25,
   "metadata": {},
   "outputs": [],
   "source": [
    "def unify(exp1, exp2):\n",
    "    if exp1 == exp2:\n",
    "        return []\n",
    "\n",
    "    if isConstant(exp1) and isConstant(exp2):\n",
    "        if exp1 != exp2:\n",
    "            return False\n",
    "\n",
    "    if isConstant(exp1):\n",
    "        return [(exp1,'|', exp2)]\n",
    "\n",
    "    if isConstant(exp2):\n",
    "        return [(exp2,'|', exp1)]\n",
    "\n",
    "    if isVariable(exp1):\n",
    "        if checkOccurs(exp1, exp2):\n",
    "            \n",
    "            return False\n",
    "        else:\n",
    "            \n",
    "            return [(exp2,'|', exp1)]\n",
    "\n",
    "    if isVariable(exp2):\n",
    "        if checkOccurs(exp2, exp1):\n",
    "            return False\n",
    "        else:\n",
    "            return [(exp1,'|', exp2)]\n",
    "\n",
    "    if getInitialPredicate(exp1) != getInitialPredicate(exp2):\n",
    "        print(\"Predicates do not match. Cannot be unified\")\n",
    "        return False\n",
    "    \n",
    "    a1 = len(getAttributes(exp1))\n",
    "    a2 = len(getAttributes(exp2))\n",
    "    if a1 != a2:\n",
    "        return False\n",
    "\n",
    "    head1 = getFirstPart(exp1)\n",
    "    print(\"Head1 \",head1)\n",
    "    head2 = getFirstPart(exp2)\n",
    "    print(\"Head2 \",head2)\n",
    "    initialSub = unify(head1, head2)\n",
    "    print(\"initial \",initialSub)\n",
    "    \n",
    "    if not initialSub:\n",
    "        return False\n",
    "    if a1 == 1:\n",
    "        return initialSub\n",
    "\n",
    "    tail1 = getRemainingPart(exp1)\n",
    "    print(\"tail1 \",tail1)\n",
    "    tail2 = getRemainingPart(exp2)\n",
    "    print(\"tail2 \",tail2)\n",
    "\n",
    "    if initialSub!= []:\n",
    "        tail1 = apply(tail1, initialSub)\n",
    "        print(\"tail11 \",tail1)\n",
    "        tail2 = apply(tail2, initialSub)\n",
    "        print(\"tail21 \",tail2)\n",
    "        \n",
    "    remainingSubs= unify(tail1, tail2)\n",
    "    if not remainingSubs:\n",
    "        return False\n",
    "    \n",
    "    initialSub.extend(remainingSubs)\n",
    "    return initialSub"
   ]
  },
  {
   "cell_type": "code",
   "execution_count": 27,
   "metadata": {},
   "outputs": [
    {
     "name": "stdout",
     "output_type": "stream",
     "text": [
      "Head1  John\n",
      "Head2  x\n",
      "initial  [('John', '|', 'x')]\n",
      "tail1  knows(y)\n",
      "tail2  knows(Bill)\n",
      "tail11  knows(y)\n",
      "tail21  knows(Bill)\n",
      "Head1  y\n",
      "Head2  Bill\n",
      "initial  [('Bill', '|', 'y')]\n",
      "Substitutions:\n",
      "[('John', '|', 'x'), ('Bill', '|', 'y')]\n"
     ]
    }
   ],
   "source": [
    "#test1\n",
    "exp1 = \"knows(John,y)\"\n",
    "exp2 = \"knows(x,Bill)\"\n",
    "subs = unify(exp1, exp2)\n",
    "print(\"Substitutions:\")\n",
    "print(subs)"
   ]
  },
  {
   "cell_type": "code",
   "execution_count": 28,
   "metadata": {},
   "outputs": [
    {
     "name": "stdout",
     "output_type": "stream",
     "text": [
      "Head1  x\n",
      "Head2  z\n",
      "initial  [('z', '|', 'x')]\n",
      "tail1  studies(g(x))\n",
      "tail2  studies(f(z))\n",
      "tail11  studies(g(x))\n",
      "tail21  studies(f(z))\n",
      "Head1  g(x)\n",
      "Head2  f(z)\n",
      "Predicates do not match. Cannot be unified\n",
      "initial  False\n",
      "Substitutions:\n",
      "False\n"
     ]
    }
   ],
   "source": [
    "#test2\n",
    "exp1 = \"studies(x,g(x))\"\n",
    "exp2 = \"studies(z,f(z))\"\n",
    "subs = unify(exp1, exp2)\n",
    "print(\"Substitutions:\")\n",
    "print(subs)"
   ]
  },
  {
   "cell_type": "code",
   "execution_count": 29,
   "metadata": {},
   "outputs": [
    {
     "name": "stdout",
     "output_type": "stream",
     "text": [
      "Enter Exp1:  motherof(a,b,c)\n",
      "Enter Exp2:  siblingof(x,y,z)\n",
      "Predicates do not match. Cannot be unified\n",
      "Substitutions:\n",
      "False\n"
     ]
    }
   ],
   "source": [
    "#test3\n",
    "exp1 = input(\"Enter Exp1:  \")\n",
    "exp2 = input(\"Enter Exp2:  \")\n",
    "subs = unify(exp1, exp2)\n",
    "print(\"Substitutions:\")\n",
    "print(subs)"
   ]
  },
  {
   "cell_type": "code",
   "execution_count": 34,
   "metadata": {},
   "outputs": [
    {
     "name": "stdout",
     "output_type": "stream",
     "text": [
      "Enter Exp1:  Knows(John,x)\n",
      "Enter Exp2:  Knows(y,z)\n",
      "Head1  John\n",
      "Head2  y\n",
      "initial  [('John', '|', 'y')]\n",
      "tail1  Knows(x)\n",
      "tail2  Knows(z)\n",
      "tail11  Knows(x)\n",
      "tail21  Knows(z)\n",
      "Head1  x\n",
      "Head2  z\n",
      "initial  [('z', '|', 'x')]\n",
      "Substitutions:\n",
      "[('John', '|', 'y'), ('z', '|', 'x')]\n"
     ]
    }
   ],
   "source": [
    "#test4\n",
    "exp1 = input(\"Enter Exp1:  \")\n",
    "exp2 = input(\"Enter Exp2:  \")\n",
    "subs = unify(exp1, exp2)\n",
    "print(\"Substitutions:\")\n",
    "print(subs)"
   ]
  },
  {
   "cell_type": "code",
   "execution_count": null,
   "metadata": {},
   "outputs": [],
   "source": []
  }
 ],
 "metadata": {
  "kernelspec": {
   "display_name": "Python 3",
   "language": "python",
   "name": "python3"
  },
  "language_info": {
   "codemirror_mode": {
    "name": "ipython",
    "version": 3
   },
   "file_extension": ".py",
   "mimetype": "text/x-python",
   "name": "python",
   "nbconvert_exporter": "python",
   "pygments_lexer": "ipython3",
   "version": "3.8.3"
  }
 },
 "nbformat": 4,
 "nbformat_minor": 4
}
