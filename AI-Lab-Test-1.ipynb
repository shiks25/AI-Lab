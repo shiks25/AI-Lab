{
 "cells": [
  {
   "cell_type": "markdown",
   "metadata": {},
   "source": [
    "## AI Lab Test 1-1BM18CS149\n",
    "### Vacuum Cleaner Agent\n",
    "\n",
    "* The percept sequence given as input is in the form :<br>\n",
    "<which place cleaner is in, if Left location is clean or dirty,how many times it has been cleaned, if Right location is clean or dirty,how many times it has been cleaned ><br>\n",
    "* It is assumed that a location is clean only if it has been cleaned TWICE\n",
    "* D represents dirty and C represents Clean,L is left and R is right\n",
    "\n"
   ]
  },
  {
   "cell_type": "code",
   "execution_count": 1,
   "metadata": {},
   "outputs": [],
   "source": [
    "# Left and right move \n",
    "def Move_right(state):\n",
    "    if state[0]=='L':\n",
    "        state[0]='R'\n",
    "        print(\"Moving to RIGHT state:\",state)\n",
    "    return state\n",
    "\n",
    "def Move_left(state):\n",
    "    if state[0]=='R':\n",
    "        state[0]='L'\n",
    "        print(\"Moving to LEFT state:\",state)\n",
    "    return state\n",
    "\n",
    "# Suck dirt\n",
    "def suck(state):\n",
    "    if(state[0]=='R' and state[3]=='D'):\n",
    "        if(state[4]=='0'):\n",
    "            state[4]='1'\n",
    "        elif(state[4]=='1'):\n",
    "            state[4]='2'\n",
    "            state[3]='C'\n",
    "    \n",
    "\n",
    "    elif(state[0]=='L' and state[1]=='D'):\n",
    "        if(state[2]=='0'):\n",
    "            state[2]='1'\n",
    "        elif(state[2]=='1'):\n",
    "            state[2]='2'\n",
    "            state[1]='C'\n",
    "        \n",
    "        \n",
    "    print(\"Sucking Dirt at state: \",state)\n",
    "    \n",
    "    return state"
   ]
  },
  {
   "cell_type": "code",
   "execution_count": 2,
   "metadata": {},
   "outputs": [],
   "source": [
    "# this function checks if the place has been cleaned twice\n",
    "def vaccum_agent(state):\n",
    "    if(state[1]=='C' and state[3]=='C'):\n",
    "        print(\"Both the locations are clean!\")\n",
    "    else:\n",
    "         while(True):\n",
    "            if state[1]=='C' and state[3]=='C' and state[2]=='2' and state[4]=='2':\n",
    "                print(\"Both the locations are cleaned twice.\")\n",
    "                break\n",
    "            if(state[0]=='L'):\n",
    "                if(state[1]=='D'):\n",
    "                    state=suck(state)\n",
    "                if(state[2]=='2'):\n",
    "                    state=Move_right(state)\n",
    "                    \n",
    "            else:\n",
    "                if(state[3]=='D'):\n",
    "                    state=suck(state)\n",
    "                if(state[4]=='2'):\n",
    "                    state=Move_left(state)"
   ]
  },
  {
   "cell_type": "code",
   "execution_count": 3,
   "metadata": {},
   "outputs": [
    {
     "name": "stdout",
     "output_type": "stream",
     "text": [
      "Sucking Dirt at state:  ['L', 'C', '2', 'D', '0']\n",
      "Moving to RIGHT state: ['R', 'C', '2', 'D', '0']\n",
      "Sucking Dirt at state:  ['R', 'C', '2', 'D', '1']\n",
      "Sucking Dirt at state:  ['R', 'C', '2', 'C', '2']\n",
      "Moving to LEFT state: ['L', 'C', '2', 'C', '2']\n",
      "Both the locations are cleaned twice.\n"
     ]
    }
   ],
   "source": [
    "#test1\n",
    "state=['L','D','1','D','0']\n",
    "vaccum_agent(state)"
   ]
  },
  {
   "cell_type": "code",
   "execution_count": 4,
   "metadata": {},
   "outputs": [
    {
     "name": "stdout",
     "output_type": "stream",
     "text": [
      "Moving to RIGHT state: ['R', 'C', '2', 'D', '0']\n",
      "Sucking Dirt at state:  ['R', 'C', '2', 'D', '1']\n",
      "Sucking Dirt at state:  ['R', 'C', '2', 'C', '2']\n",
      "Moving to LEFT state: ['L', 'C', '2', 'C', '2']\n",
      "Both the locations are cleaned twice.\n"
     ]
    }
   ],
   "source": [
    "#test2\n",
    "state=['L','C','2','D','0']\n",
    "vaccum_agent(state)"
   ]
  },
  {
   "cell_type": "code",
   "execution_count": 5,
   "metadata": {},
   "outputs": [
    {
     "name": "stdout",
     "output_type": "stream",
     "text": [
      "Sucking Dirt at state:  ['R', 'C', '2', 'C', '2']\n",
      "Moving to LEFT state: ['L', 'C', '2', 'C', '2']\n",
      "Both the locations are cleaned twice.\n"
     ]
    }
   ],
   "source": [
    "#test3\n",
    "state=['R','C','2','D','1']\n",
    "vaccum_agent(state)"
   ]
  },
  {
   "cell_type": "code",
   "execution_count": null,
   "metadata": {},
   "outputs": [],
   "source": []
  }
 ],
 "metadata": {
  "kernelspec": {
   "display_name": "Python 3",
   "language": "python",
   "name": "python3"
  },
  "language_info": {
   "codemirror_mode": {
    "name": "ipython",
    "version": 3
   },
   "file_extension": ".py",
   "mimetype": "text/x-python",
   "name": "python",
   "nbconvert_exporter": "python",
   "pygments_lexer": "ipython3",
   "version": "3.8.3"
  }
 },
 "nbformat": 4,
 "nbformat_minor": 4
}
